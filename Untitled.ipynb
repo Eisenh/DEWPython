{
 "cells": [
  {
   "cell_type": "code",
   "execution_count": null,
   "id": "3217e14e-1ffd-494d-afa9-a9d737856ae5",
   "metadata": {},
   "outputs": [],
   "source": [
    "%pip install -U ipykernel\n",
    "\n",
    " "
   ]
  },
  {
   "cell_type": "code",
   "execution_count": null,
   "id": "77f44755",
   "metadata": {},
   "outputs": [],
   "source": []
  },
  {
   "cell_type": "code",
   "execution_count": null,
   "id": "7b132711-2e69-4c4f-820b-76720eb1e5d8",
   "metadata": {},
   "outputs": [],
   "source": [
    "%pip install matplotlib numpy dewpython\n",
    "%pip install pandas\n",
    "%pip install DEWPython/"
   ]
  },
  {
   "cell_type": "code",
   "execution_count": 10,
   "id": "c1b8341a-b6e7-4291-99cb-900033789dba",
   "metadata": {},
   "outputs": [],
   "source": [
    "%matplotlib inline\n",
    "#from DEWPython.DEWModel import DEW\n",
    "import DEWPython\n",
    "from DEWPython import DEWModel as dm\n",
    "import matplotlib.pyplot as plt\n",
    "import numpy as np\n",
    "import csv\n",
    "import os"
   ]
  },
  {
   "cell_type": "code",
   "execution_count": 11,
   "id": "bec2c5e9",
   "metadata": {},
   "outputs": [],
   "source": [
    "reaction = dm.DEW()"
   ]
  },
  {
   "cell_type": "code",
   "execution_count": 12,
   "id": "27f9fb86",
   "metadata": {},
   "outputs": [
    {
     "name": "stdout",
     "output_type": "stream",
     "text": [
      "Welcome to DEWPython, here are the options you can run:\n",
      "1. DEW(): this initializes a Deep Earth Water Model Object\n",
      "  -The DEW object requires the set_inputs, set_outputs, set_TPRho, and calculate methods to be run.\n",
      "  -You can also utilize the import_custom_sheets method to import custom CSV data\n",
      "  -After calculating you can use the make_plots or export_to_csv methods.\n",
      "2. run_supcrt: this initializes an inline run of SUPCRTBL\n",
      "  -After initializing the SUPCRTBL object, run calculate_supcrt to store the supcrt outputs in arrays\n",
      "  -You can also use run_supcrt on a supcrt ouput file that has already been run by adding the optional argument of the file name\n",
      "  -After this you can run make_supcrt_plots to plot the supcrt files akin the a DEW file\n"
     ]
    }
   ],
   "source": [
    "reaction.options()"
   ]
  },
  {
   "cell_type": "code",
   "execution_count": 14,
   "id": "6ecbb8d6",
   "metadata": {},
   "outputs": [
    {
     "name": "stdout",
     "output_type": "stream",
     "text": [
      "Your Species is not in the list, please check your spelling\n"
     ]
    }
   ],
   "source": [
    "reaction.set_inputs()\n",
    "# Initialize the LHS of the reaction"
   ]
  },
  {
   "cell_type": "code",
   "execution_count": 15,
   "id": "4966fe15",
   "metadata": {},
   "outputs": [
    {
     "name": "stdout",
     "output_type": "stream",
     "text": [
      "Please enter a valid integer multiplier \n"
     ]
    }
   ],
   "source": [
    "\n",
    "reaction.set_outputs()\n",
    "# Initialize the RHS of the reaction"
   ]
  },
  {
   "cell_type": "code",
   "execution_count": 16,
   "id": "bfbae3d3",
   "metadata": {},
   "outputs": [
    {
     "ename": "SyntaxError",
     "evalue": "invalid syntax (3081189342.py, line 3)",
     "output_type": "error",
     "traceback": [
      "\u001b[1;36m  File \u001b[1;32m\"C:\\Users\\eisen\\AppData\\Local\\Temp\\ipykernel_15156\\3081189342.py\"\u001b[1;36m, line \u001b[1;32m3\u001b[0m\n\u001b[1;33m    WFEQ ='D&H 1978', dsV = True, pdsV = True, DV = True, EQ = 1, dEQ = 1, pst = True, mWn = 1, makeP = False))\u001b[0m\n\u001b[1;37m                                                                                                              ^\u001b[0m\n\u001b[1;31mSyntaxError\u001b[0m\u001b[1;31m:\u001b[0m invalid syntax\n"
     ]
    }
   ],
   "source": [
    "reaction.run(pt_arr, min_inp =[], aq_inp = [], g_inp = [], h2o_inp = 0, min_out = [],aq_out =[], g_out = [],h2o_out = 0, \n",
    "        ptInp = 'Psat', rhoWat = 'Z&D 2005', forceBool = False, dieEQ = 'Supcrt', forceSC = True, \n",
    "        WFEQ ='D&H 1978', dsV = True, pdsV = True, DV = True, EQ = 1, dEQ = 1, pst = True, mWn = 1, makeP = False))"
   ]
  },
  {
   "cell_type": "code",
   "execution_count": 41,
   "id": "d7747039",
   "metadata": {},
   "outputs": [
    {
     "name": "stdout",
     "output_type": "stream",
     "text": [
      "\n",
      "Results at each temperature and pressure point:\n",
      "\n",
      "T = 360.0°C, P = 330.0 bar\n",
      "LogK = 1.9364\n",
      "ΔG = -5606.2490 cal/mol\n",
      "Eq =  ['KOH,aq', 1]\n",
      "\n",
      "T = 361.0°C, P = 330.0 bar\n",
      "LogK = 1.9447\n",
      "ΔG = -5639.1386 cal/mol\n"
     ]
    },
    {
     "ename": "IndexError",
     "evalue": "list index out of range",
     "output_type": "error",
     "traceback": [
      "\u001b[1;31m---------------------------------------------------------------------------\u001b[0m",
      "\u001b[1;31mIndexError\u001b[0m                                Traceback (most recent call last)",
      "\u001b[1;32m~\\AppData\\Local\\Temp\\ipykernel_15156\\757045639.py\u001b[0m in \u001b[0;36m<module>\u001b[1;34m\u001b[0m\n\u001b[0;32m     26\u001b[0m     \u001b[0mprint\u001b[0m\u001b[1;33m(\u001b[0m\u001b[1;34mf\"LogK = {reaction.logK[i][0]:.4f}\"\u001b[0m\u001b[1;33m)\u001b[0m\u001b[1;33m\u001b[0m\u001b[1;33m\u001b[0m\u001b[0m\n\u001b[0;32m     27\u001b[0m     \u001b[0mprint\u001b[0m\u001b[1;33m(\u001b[0m\u001b[1;34mf\"ΔG = {reaction.delG[i][0]:.4f} cal/mol\"\u001b[0m\u001b[1;33m)\u001b[0m\u001b[1;33m\u001b[0m\u001b[1;33m\u001b[0m\u001b[0m\n\u001b[1;32m---> 28\u001b[1;33m     \u001b[0mprint\u001b[0m\u001b[1;33m(\u001b[0m\u001b[1;34m\"Eq = \"\u001b[0m\u001b[1;33m,\u001b[0m \u001b[0mreaction\u001b[0m\u001b[1;33m.\u001b[0m\u001b[0maqueousOutputs\u001b[0m\u001b[1;33m[\u001b[0m\u001b[0mi\u001b[0m\u001b[1;33m]\u001b[0m\u001b[1;33m)\u001b[0m\u001b[1;33m\u001b[0m\u001b[1;33m\u001b[0m\u001b[0m\n\u001b[0m\u001b[0;32m     29\u001b[0m \u001b[1;33m\u001b[0m\u001b[0m\n\u001b[0;32m     30\u001b[0m \u001b[1;31m# Create plots for the results\u001b[0m\u001b[1;33m\u001b[0m\u001b[1;33m\u001b[0m\u001b[1;33m\u001b[0m\u001b[0m\n",
      "\u001b[1;31mIndexError\u001b[0m: list index out of range"
     ]
    }
   ],
   "source": [
    "# Define the temperature and pressure points\n",
    "temperatures = np.linspace(350, 450, 21)  # 10 points from 350 to 450°C\n",
    "pressures = [330] * len(temperatures)  # Constant pressure of 330 bar\n",
    "\n",
    "# Define the aqueous species inputs for 1M KOH solution\n",
    "aq_inputs = [\n",
    "    [\"K+\", 1],  # 1M KOH provides 1M K+\n",
    "    [\"OH-\", 1]  # 1M KOH provides 1M OH-\n",
    "]\n",
    "aq_outputs = [[\"KOH,aq\", 1]]\n",
    "# Run the DEW model with the specified conditions\n",
    "reaction.run(\n",
    "    pt_arr=list(zip(temperatures, pressures)),\n",
    "    aq_inp=aq_inputs,\n",
    "    aq_out=aq_outputs,\n",
    "    ptInp='Custom',  # Use Custom to specify temperature and pressure points\n",
    "    rhoWat='Z&D 2009',\n",
    "    forceSC = True,\n",
    "    makeP=False  # Don't use built-in plotting\n",
    ")\n",
    "\n",
    "# Print results\n",
    "print(\"\\nResults at each temperature and pressure point:\")\n",
    "for i in range(len(reaction.tempUsed)):\n",
    "    print(f\"\\nT = {reaction.tempUsed[i]}°C, P = {reaction.pressureUsed[i]} bar\")\n",
    "    print(f\"LogK = {reaction.logK[i][0]:.4f}\")\n",
    "    print(f\"ΔG = {reaction.delG[i][0]:.4f} cal/mol\")\n",
    "    print(\"Eq = \", reaction.[i])\n",
    "\n",
    "# Create plots for the results\n",
    "plt.figure(figsize=(10, 6))\n",
    "plt.plot(reaction.tempUsed, [x[0] for x in reaction.logK], 'b-', label='LogK')\n",
    "plt.xlabel('Temperature (°C)')\n",
    "plt.ylabel('LogK')\n",
    "plt.title('LogK vs Temperature')\n",
    "plt.grid(True)\n",
    "plt.legend()\n",
    "plt.show()\n",
    "\n",
    "plt.figure(figsize=(10, 6))\n",
    "plt.plot(reaction.tempUsed, [x[0] for x in reaction.delG], 'r-', label='ΔG')\n",
    "plt.xlabel('Temperature (°C)')\n",
    "plt.ylabel('ΔG (cal/mol)')\n",
    "plt.title('ΔG vs Temperature')\n",
    "plt.grid(True)\n",
    "plt.legend()\n",
    "plt.show()\n",
    "\n",
    "plt.figure(figsize=(10, 6))\n",
    "plt.plot(reaction.tempUsed, [x[0] for x in reaction.delV], 'g-', label='ΔV')\n",
    "plt.xlabel('Temperature (°C)')\n",
    "plt.ylabel('ΔV (cm³/mol)')\n",
    "plt.title('ΔV vs Temperature')\n",
    "plt.grid(True)\n",
    "plt.legend()\n",
    "plt.show()"
   ]
  },
  {
   "cell_type": "code",
   "execution_count": null,
   "id": "a27574dc",
   "metadata": {},
   "outputs": [],
   "source": [
    "\n",
    "reaction.set_preferences()\n",
    "# By default, the reaction runs at Psat conditions (see documentation). The set_preferences() method interactively changes this."
   ]
  },
  {
   "cell_type": "code",
   "execution_count": 5,
   "id": "48c5bcf7-4126-47d0-8a01-900e9bf2a109",
   "metadata": {},
   "outputs": [],
   "source": [
    "\n",
    "def run_aqueous_model():\n",
    "    try:\n",
    "        # Create DEW model instance\n",
    "        print(\"Initializing DEW model...\")\n",
    "        model = DEW()\n",
    "        \n",
    "        # Define aqueous species inputs with ionic components\n",
    "        aq_inputs = [\n",
    "            # Combined K+ from both KOH (0.5M) and K2CO3 (0.4M) = 0.9M total\n",
    "            [\"K+\", 3],              # Total K+ (1 from KOH + 2 from K2CO3)\n",
    "            \n",
    "            # OH- from 0.5M KOH\n",
    "            [\"OH-\", 1],             # From 0.5M KOH\n",
    "            \n",
    "            # CO3^2- from 0.2M K2CO3\n",
    "            [\"CO3-2\", 1],           # From 0.2M K2CO3\n",
    "            \n",
    "            # 0.3M acetic acid\n",
    "            [\"ACETATE,AQ\", 1]       # 0.3M acetic acid\n",
    "        ]\n",
    "        \n",
    "        print(\"Running model with temperature and pressure points from input.csv...\")\n",
    "        # Run the model without built-in plotting\n",
    "        model.run(\n",
    "            pt_arr=[],  # Empty since using Custom input\n",
    "            aq_inp=aq_inputs,\n",
    "            ptInp='Custom',  # Use Custom to read from input.csv\n",
    "            rhoWat='Z&D 2005',\n",
    "            makeP=False  # Don't use built-in plotting\n",
    "        )\n",
    "        \n",
    "        # Print debug information\n",
    "        print(\"\\nDebug Information:\")\n",
    "        print(f\"Number of temperature points: {len(model.tempUsed)}\")\n",
    "        print(f\"Number of pressure points: {len(model.pressureUsed)}\")\n",
    "        print(f\"Temperature range: {min(model.tempUsed):.1f}°C to {max(model.tempUsed):.1f}°C\")\n",
    "        print(f\"Pressure range: {min(model.pressureUsed):.1f} to {max(model.pressureUsed):.1f} bar\")\n",
    "        \n",
    "        # Write results to CSV\n",
    "        output_file = 'dew_model_results.csv'\n",
    "        print(f\"\\nWriting results to {output_file}...\")\n",
    "        \n",
    "        try:\n",
    "            with open(output_file, 'w', newline='') as csvfile:\n",
    "                writer = csv.writer(csvfile)\n",
    "                \n",
    "                # Write reaction information\n",
    "                writer.writerow(['Reaction Components'])\n",
    "                writer.writerow(['Input Species:'])\n",
    "                for species, coeff in model.aqueousInputs:\n",
    "                    writer.writerow([f\"{coeff} {species}\"])\n",
    "                writer.writerow(['Output Species:'])\n",
    "                for species, coeff in model.aqueousOutputs:\n",
    "                    writer.writerow([f\"{coeff} {species}\"])\n",
    "                writer.writerow([])  # Empty row for separation\n",
    "                \n",
    "                # Write thermodynamic data\n",
    "                headers = [\n",
    "                    'Temperature (C)', 'Pressure (bar)',\n",
    "                    'LogK', 'DeltaG (cal/mol)', 'DeltaV (cm3/mol)',\n",
    "                    'Water Density (g/cm3)', 'Dielectric Constant'\n",
    "                ]\n",
    "                writer.writerow(headers)\n",
    "                \n",
    "                # Write data for each point\n",
    "                for i in range(len(model.tempUsed)):\n",
    "                    row = [\n",
    "                        f\"{model.tempUsed[i]:.2f}\",\n",
    "                        f\"{model.pressureUsed[i]:.2f}\",\n",
    "                        f\"{model.logK[i][0]:.4f}\",\n",
    "                        f\"{model.delG[i][0]:.4f}\",\n",
    "                        f\"{model.delV[i][0]:.4f}\",\n",
    "                        f\"{model.RhoWatArr[i]:.6f}\",\n",
    "                        f\"{model.DiaArr[i]:.6f}\"\n",
    "                    ]\n",
    "                    writer.writerow(row)\n",
    "            \n",
    "            print(f\"Results successfully written to {output_file}\")\n",
    "            \n",
    "        except Exception as e:\n",
    "            print(f\"Error writing to CSV: {str(e)}\")\n",
    "            print(\"Stack trace:\")\n",
    "            import traceback\n",
    "            traceback.print_exc()\n",
    "\n",
    "        # Print results to console\n",
    "        print(\"\\nResults at each temperature and pressure point:\")\n",
    "        for i in range(len(model.tempUsed)):\n",
    "            print(f\"\\nT = {model.tempUsed[i]}°C, P = {model.pressureUsed[i]} bar\")\n",
    "            print(f\"LogK = {model.logK[i][0]:.4f}\")\n",
    "            print(f\"ΔG = {model.delG[i][0]:.4f} cal/mol\")\n",
    "            print(f\"ΔV = {model.delV[i][0]:.4f} cm³/mol\")\n",
    "\n",
    "        # Create our own plots\n",
    "        print(\"\\nGenerating plots...\")\n",
    "        \n",
    "        # Extract data for plotting\n",
    "        temperatures = model.tempUsed\n",
    "        logk_values = [x[0] for x in model.logK]\n",
    "        delg_values = [x[0] for x in model.delG]\n",
    "        delv_values = [x[0] for x in model.delV]\n",
    "        \n",
    "        # Create temperature plots\n",
    "        plt.figure(figsize=(10, 6))\n",
    "        plt.plot(temperatures, logk_values, 'b-', label='LogK')\n",
    "        plt.xlabel('Temperature (°C)')\n",
    "        plt.ylabel('LogK')\n",
    "        plt.title('LogK vs Temperature')\n",
    "        plt.grid(True)\n",
    "        plt.legend()\n",
    "        plt.show()\n",
    "\n",
    "        plt.figure(figsize=(10, 6))\n",
    "        plt.plot(temperatures, delg_values, 'r-', label='ΔG')\n",
    "        plt.xlabel('Temperature (°C)')\n",
    "        plt.ylabel('ΔG (cal/mol)')\n",
    "        plt.title('ΔG vs Temperature')\n",
    "        plt.grid(True)\n",
    "        plt.legend()\n",
    "        plt.show()\n",
    "\n",
    "        plt.figure(figsize=(10, 6))\n",
    "        plt.plot(temperatures, delv_values, 'g-', label='ΔV')\n",
    "        plt.xlabel('Temperature (°C)')\n",
    "        plt.ylabel('ΔV (cm³/mol)')\n",
    "        plt.title('ΔV vs Temperature')\n",
    "        plt.grid(True)\n",
    "        plt.legend()\n",
    "        plt.show()\n",
    "\n",
    "        print(\"Plots generated successfully\")\n",
    "\n",
    "    except Exception as e:\n",
    "        print(f\"Error running model: {str(e)}\")\n",
    "        print(\"Stack trace:\")\n",
    "        import traceback\n",
    "        traceback.print_exc()\n"
   ]
  },
  {
   "cell_type": "code",
   "execution_count": null,
   "id": "473c7649",
   "metadata": {},
   "outputs": [],
   "source": [
    "run_aqueous_model()"
   ]
  },
  {
   "cell_type": "code",
   "execution_count": null,
   "id": "6ff711d2",
   "metadata": {},
   "outputs": [],
   "source": []
  }
 ],
 "metadata": {
  "kernelspec": {
   "display_name": "dewpython",
   "language": "python",
   "name": "python3"
  },
  "language_info": {
   "codemirror_mode": {
    "name": "ipython",
    "version": 3
   },
   "file_extension": ".py",
   "mimetype": "text/x-python",
   "name": "python",
   "nbconvert_exporter": "python",
   "pygments_lexer": "ipython3",
   "version": "3.7.12"
  }
 },
 "nbformat": 4,
 "nbformat_minor": 5
}
